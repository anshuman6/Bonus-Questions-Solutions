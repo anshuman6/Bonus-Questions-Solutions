{
 "cells": [
  {
   "cell_type": "code",
   "execution_count": 38,
   "metadata": {},
   "outputs": [],
   "source": [
    "# Open file and store in fd\n",
    "fd = open(\"pali.txt\", \"r\")\n",
    "# Extract the corpus into a variable corpus\n",
    "corpus = fd.read()"
   ]
  },
  {
   "cell_type": "code",
   "execution_count": 39,
   "metadata": {},
   "outputs": [],
   "source": [
    "# Split by comma\n",
    "corpus_split = corpus.split(\",\")"
   ]
  },
  {
   "cell_type": "code",
   "execution_count": 40,
   "metadata": {},
   "outputs": [],
   "source": [
    "# Remove any rogue spaces before and after the word and create a new list\n",
    "corpus_split_cleaned = [elem.strip() for elem in corpus_split]"
   ]
  },
  {
   "cell_type": "code",
   "execution_count": 41,
   "metadata": {},
   "outputs": [],
   "source": [
    "# CHANGE CASE, while checking for palindrome, upper and lower case can be confused for different alphabets\n",
    "corpus_split_cleaned2 = [elem.lower() for elem in corpus_split]"
   ]
  },
  {
   "cell_type": "code",
   "execution_count": 48,
   "metadata": {},
   "outputs": [],
   "source": [
    "# Define a function to check for palindrome\n",
    "\n",
    "def palin_check(str):\n",
    "    flag = 1\n",
    "    for i in range(len(str)):\n",
    "        if str[i] == str[-(i+1)]:\n",
    "            continue\n",
    "        else:\n",
    "            flag = 0\n",
    "    if flag == 1:\n",
    "        return str\n",
    "    "
   ]
  },
  {
   "cell_type": "code",
   "execution_count": 49,
   "metadata": {},
   "outputs": [],
   "source": [
    "# Create a list of palindromes\n",
    "\n",
    "palin_list = [palin_check(elem1) for elem1 in corpus_split_cleaned2]"
   ]
  },
  {
   "cell_type": "code",
   "execution_count": 52,
   "metadata": {},
   "outputs": [],
   "source": [
    "# Drop none values from list\n",
    "final_palin_list = []\n",
    "\n",
    "for elem2 in palin_list:\n",
    "    if elem2 != None:\n",
    "        final_palin_list.append(elem2)"
   ]
  },
  {
   "cell_type": "code",
   "execution_count": 54,
   "metadata": {},
   "outputs": [],
   "source": [
    "# Sort alphabetically\n",
    "final_palin_list.sort()"
   ]
  },
  {
   "cell_type": "code",
   "execution_count": 55,
   "metadata": {},
   "outputs": [
    {
     "data": {
      "text/plain": [
       "27"
      ]
     },
     "execution_count": 55,
     "metadata": {},
     "output_type": "execute_result"
    }
   ],
   "source": [
    "# Length of list\n",
    "\n",
    "len(final_palin_list)"
   ]
  },
  {
   "cell_type": "code",
   "execution_count": 56,
   "metadata": {},
   "outputs": [
    {
     "data": {
      "text/plain": [
       "['civic',\n",
       " 'dad',\n",
       " 'degged',\n",
       " 'detartrated',\n",
       " 'dewed',\n",
       " 'eve',\n",
       " 'evitative',\n",
       " 'kayak',\n",
       " 'level',\n",
       " 'madam',\n",
       " 'malayalam',\n",
       " 'mom',\n",
       " 'noon',\n",
       " 'racecar',\n",
       " 'radar',\n",
       " 'redder',\n",
       " 'refer',\n",
       " 'revver',\n",
       " 'rotator',\n",
       " 'rotor',\n",
       " 'sagas',\n",
       " 'selles',\n",
       " 'solos',\n",
       " 'stats',\n",
       " 'tattarrattat',\n",
       " 'tenet',\n",
       " 'wow']"
      ]
     },
     "execution_count": 56,
     "metadata": {},
     "output_type": "execute_result"
    }
   ],
   "source": [
    "# Display palindroms in order\n",
    "final_palin_list"
   ]
  },
  {
   "cell_type": "code",
   "execution_count": null,
   "metadata": {},
   "outputs": [],
   "source": []
  }
 ],
 "metadata": {
  "kernelspec": {
   "display_name": "Python 3",
   "language": "python",
   "name": "python3"
  },
  "language_info": {
   "codemirror_mode": {
    "name": "ipython",
    "version": 3
   },
   "file_extension": ".py",
   "mimetype": "text/x-python",
   "name": "python",
   "nbconvert_exporter": "python",
   "pygments_lexer": "ipython3",
   "version": "3.7.6"
  }
 },
 "nbformat": 4,
 "nbformat_minor": 4
}
