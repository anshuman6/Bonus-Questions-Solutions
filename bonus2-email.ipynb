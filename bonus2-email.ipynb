{
 "cells": [
  {
   "cell_type": "code",
   "execution_count": 186,
   "metadata": {},
   "outputs": [],
   "source": [
    "# Open file\n",
    "fd = open(\"email.txt\")"
   ]
  },
  {
   "cell_type": "code",
   "execution_count": 187,
   "metadata": {},
   "outputs": [],
   "source": [
    "fd2 = fd.read()"
   ]
  },
  {
   "cell_type": "code",
   "execution_count": 188,
   "metadata": {},
   "outputs": [],
   "source": [
    "# fd2 is now a str variable"
   ]
  },
  {
   "cell_type": "code",
   "execution_count": 189,
   "metadata": {},
   "outputs": [],
   "source": [
    "# Split the fd2 str by space character.. anything separated by space can be considered a different entitity.\n",
    "# A valid email ID will not have any spaces\n",
    "\n",
    "fd3 = fd2.split(\" \")\n",
    "\n",
    "# We also need to split invidual items by comma which have now emerged after split by space\n",
    "# example: abx@ytx.com,wqs@wds.com --> this need to be split now\n",
    "\n",
    "fd4 = []\n",
    "\n",
    "for elem in fd3:\n",
    "        fd4.extend(elem.split(\",\"))"
   ]
  },
  {
   "cell_type": "code",
   "execution_count": 190,
   "metadata": {},
   "outputs": [],
   "source": [
    "# Define a function to identify valid email IDs\n",
    "\n",
    "def valid_email(str):\n",
    "    \n",
    "    # remove trailing or leading spaces from individual probable candidates\n",
    "    str_cleaned = str.strip()\n",
    "    \n",
    "    # We will use this flag variable to eventually decide which is a valid email address\n",
    "    flag = 0\n",
    "    \n",
    "    # at level 1, only keep candidates with 1 @ and less than 3 . in the text \n",
    "    if str_cleaned.count(\"@\") == 1 and str_cleaned.count(\".\") > 0 and str_cleaned.count(\".\") < 3:\n",
    "        \n",
    "            # Calculate the position at which @ is present\n",
    "            atindex = str_cleaned.index(\"@\")\n",
    "            \n",
    "            # Check username conditions, slice before @ to get the username\n",
    "            flag = 1\n",
    "            username = str_cleaned[:atindex]\n",
    "            if username[0] != \".\" and username[-1] !=\".\":\n",
    "                for char in username:\n",
    "                    if char.isalpha() or char == \".\" or char.isdigit():\n",
    "                        continue\n",
    "                    else:\n",
    "                        flag =2\n",
    "                        \n",
    "                        \n",
    "            \n",
    "            # if flag is 1, username part is in correct form, check for domain and site next\n",
    "            if flag == 1:\n",
    "                \n",
    "                # select the site and domain part which will be after @\n",
    "                \n",
    "                site_domain = str_cleaned[atindex+1:]\n",
    "                \n",
    "                # There should be only 1 .\n",
    "                if site_domain.count(\".\") == 1:\n",
    "                    \n",
    "                    # All characters should be alphabets and there will be 1 @, possibility of 2 or more @ is already rules out above\n",
    "                    for char in site_domain:\n",
    "                        if char.isalpha() or char == \"@\" or char == \".\":\n",
    "                            continue\n",
    "                        else:\n",
    "                            flag = 2\n",
    "                            \n",
    "                            \n",
    "                            \n",
    "    if flag == 1:\n",
    "        return str_cleaned"
   ]
  },
  {
   "cell_type": "code",
   "execution_count": 191,
   "metadata": {},
   "outputs": [],
   "source": [
    "# Call the valid email function on fd4 - the variable we got after splitting by comma and space\n",
    "list_email = [valid_email(elem) for elem in fd4]"
   ]
  },
  {
   "cell_type": "code",
   "execution_count": 192,
   "metadata": {},
   "outputs": [],
   "source": [
    "# Remove Nulls\n",
    "list_email2 = [elem for elem in list_email if elem != None]"
   ]
  },
  {
   "cell_type": "code",
   "execution_count": 193,
   "metadata": {},
   "outputs": [
    {
     "data": {
      "text/plain": [
       "75"
      ]
     },
     "execution_count": 193,
     "metadata": {},
     "output_type": "execute_result"
    }
   ],
   "source": [
    "#Final List Length\n",
    "len(list_email2)"
   ]
  },
  {
   "cell_type": "code",
   "execution_count": 194,
   "metadata": {},
   "outputs": [
    {
     "data": {
      "text/plain": [
       "['iuvmq4q7n3bx3@dyakxaz.cbj',\n",
       " 'n3f30khh5@dnryla.qmter',\n",
       " 'b0gqkztg22eoo8r9d2@fpdlwhk.ypmy',\n",
       " 'rageel8jp0sqx1hevma7wu@mtzo.ggsxv',\n",
       " 'handcjqotrtukc6fgn@aogxg.urid',\n",
       " 'beastsvj6flxac0sbylrplcb@zjzgk.wuvw',\n",
       " 'sunkignyrbncd@huqsn.egfsr',\n",
       " 'liveszqd6r8r59lsgd82by@lcjnlc.dmt',\n",
       " 'handsiuvys57rtniv4zv@uks.jezae',\n",
       " 'woegiz4r1n7nljhyrw5b81@kgzb.yyb',\n",
       " 'growep5vkx6as@odejzc.gyffh',\n",
       " 'deadqp5pqnzwhsyn@ckwop.uhl',\n",
       " 'treesi6s4vqzx2urjkd@bgxrt.whg',\n",
       " 'welludxbd2b0qt@zneo.gex',\n",
       " 'sirxt3pm0hxo2cxs2rtg@bfcfm.hbual',\n",
       " 'afternoonvdlz1vac62qn0s9@rwd.qok',\n",
       " 'departp4v1767nchfheaw@hqs.xpjfm',\n",
       " 'peaceuy1x93147rbjf9hq@oebpu.qougc',\n",
       " 'uncleangsxmdr8sy6@rgvc.ohby',\n",
       " 'mutinysaw1mxdkait20pxypw8@jvastj.brsc',\n",
       " 'dignitynutk7iyzcpy@ukuh.klvb',\n",
       " 'princejo5s1gk7lrp6291cx5@pil.lvj',\n",
       " 'himon1jv8k9@uia.ouwos',\n",
       " 'Franciscangbjyvj3sjna0ak6ab0v0@xcaxikm.qqd',\n",
       " 'standhifuq7k8g@xtwpw.ibb',\n",
       " 'againu11fdvirjri0@haavrgi.zsxf',\n",
       " 'thoughtsevotlzxzef@apenueq.yiwf',\n",
       " 'Veronaywkw6zztqhfkg5@jeva.ujkee',\n",
       " 'ornamentsfap2q2w5cvuo3@mko.gqjw',\n",
       " 'headgscsi3d9mivsw3i0@bksn.dfnr',\n",
       " 'trimvahl7uz90yyi@lvdffz.vmdr',\n",
       " 'wordpukvbzgqyw3zqk@waxvcc.ueum',\n",
       " 'youis35lruh4b9fbw@nnpnvc.vqho',\n",
       " 'Princepdihg8f38@mjeaewn.xogln',\n",
       " 'otherig0ll7gwnpjubr6o3@yma.ibkn',\n",
       " 'Montagueovjpzzlt@fjdl.wotup',\n",
       " 'Montaguei6hrbqncycyisgylqg@phgwoh.txdf',\n",
       " 'peacerdxvmqkj8@pnxe.xou',\n",
       " 'marklp2cjzsiwzbybtbz@thhq.dkqt',\n",
       " 'againayd65ueqb5y@kwek.bdk',\n",
       " 'newsmb943xhpi0p8f@wltfa.hjhq',\n",
       " 'himsntoizy0i0093tpq66nq@yazgy.fzdlg',\n",
       " 'nightzntfl1682vlp@jxjunwf.loqrr',\n",
       " 'placefc45wtkf1xoefn@fmoof.nik',\n",
       " 'illi9yeogax@vpox.qeod',\n",
       " 'attendf1tgozv37pq8p7guq@qlrsbj.qwpn',\n",
       " 'liedz5upmktvpgzjves0@qri.jtkgn',\n",
       " 'sleepnnp5o9dch87q4qee1@qwr.dbfkd',\n",
       " 'himfuhvryddwpd@zgk.rva',\n",
       " 'familylbe8f9iiax0djs1yz@hbt.gmf',\n",
       " 'Romeosqoqr6sq2ju8@azg.roua',\n",
       " 'Capuletzs87njhdes8tjici393@ekwb.lfiwf',\n",
       " 'Capuletwh38h4h6lyn640@zjsfw.onip',\n",
       " 'wordlnt0chwmce@odlfmsg.czka',\n",
       " 'Romeoxrqdbioarhbfs17j@zvcfo.yzbmt',\n",
       " 'bringsowf95dlusavfm0@mgnt.cwffh',\n",
       " 'heiru7373xzc@ergp.bzak',\n",
       " 'lipz7c4mxf25e9ur@ufczah.mtpei',\n",
       " 'darkdyrol7ooba@rxbwfw.rsr',\n",
       " 'casevbmlkufsxx@wdxk.afiu',\n",
       " 'discoveryxde6os814hky@tvegmzu.kytff',\n",
       " 'airw39l1gwzkpp2ui6@cbydl.pcnph',\n",
       " 'knowybsupa307334a@nug.apo',\n",
       " 'invocationpaki0t2zr@bep.upo',\n",
       " 'thighbp9j08yu2iw11rnd@qdae.qtei',\n",
       " 'Romeovpcp9caghcr@lbyne.tbjp',\n",
       " 'bzj3ecf6wwve@wnesmyx.icur',\n",
       " 'foesxhgi0x6bv8@vmcokyb.fru',\n",
       " 'closeich7t807sde2n9one@xms.cnwb',\n",
       " 'otherldqjp8mh32i322e@kbmmo.obny',\n",
       " 'scenear2kg967q7xaisqarw@cbyju.wyxz',\n",
       " 'oldcj541ycl4zvr4trtz6v@urfgq.jxcxw',\n",
       " 'groundpyvg5owvztn4jwwl@fsaejve.byv',\n",
       " 'wormuzrqj7lkgbq@xtrv.qzsf',\n",
       " 'awayufwo3co1coz3z19c14o@mhdn.bis']"
      ]
     },
     "execution_count": 194,
     "metadata": {},
     "output_type": "execute_result"
    }
   ],
   "source": [
    "#Final List\n",
    "list_email2"
   ]
  },
  {
   "cell_type": "code",
   "execution_count": null,
   "metadata": {},
   "outputs": [],
   "source": []
  }
 ],
 "metadata": {
  "kernelspec": {
   "display_name": "Python 3",
   "language": "python",
   "name": "python3"
  },
  "language_info": {
   "codemirror_mode": {
    "name": "ipython",
    "version": 3
   },
   "file_extension": ".py",
   "mimetype": "text/x-python",
   "name": "python",
   "nbconvert_exporter": "python",
   "pygments_lexer": "ipython3",
   "version": "3.7.6"
  }
 },
 "nbformat": 4,
 "nbformat_minor": 4
}
